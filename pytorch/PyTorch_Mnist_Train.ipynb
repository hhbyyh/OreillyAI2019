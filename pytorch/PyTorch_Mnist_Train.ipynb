{
  "nbformat": 4,
  "nbformat_minor": 0,
  "metadata": {
    "colab": {
      "name": "PyTorch_Mnist_Train.ipynb",
      "version": "0.3.2",
      "provenance": [],
      "collapsed_sections": [],
      "include_colab_link": true
    },
    "kernelspec": {
      "name": "python3",
      "display_name": "Python 3"
    }
  },
  "cells": [
    {
      "cell_type": "markdown",
      "metadata": {
        "id": "view-in-github",
        "colab_type": "text"
      },
      "source": [
        "<a href=\"https://colab.research.google.com/github/intel-analytics/OreillyAI2019/blob/master/pytorch/PyTorch_Mnist_Train.ipynb\" target=\"_parent\"><img src=\"https://colab.research.google.com/assets/colab-badge.svg\" alt=\"Open In Colab\"/></a>"
      ]
    },
    {
      "cell_type": "code",
      "metadata": {
        "id": "nhOmHIPvNu06",
        "colab_type": "code",
        "outputId": "7d92ebf9-20f7-440e-e4bc-39760a146c55",
        "colab": {
          "base_uri": "https://localhost:8080/",
          "height": 177
        }
      },
      "source": [
        "!pip install analytics-zoo==0.6.0.dev7\n",
        "!apt-get install openjdk-8-jdk-headless -qq > /dev/null\n",
        "\n",
        "import os\n",
        "os.environ[\"JAVA_HOME\"] = \"/usr/lib/jvm/java-8-openjdk-amd64\""
      ],
      "execution_count": 1,
      "outputs": [
        {
          "output_type": "stream",
          "text": [
            "Requirement already satisfied: analytics-zoo==0.6.0.dev7 in /usr/local/lib/python3.6/dist-packages (0.6.0.dev7)\n",
            "Requirement already satisfied: bigdl==0.9.0 in /usr/local/lib/python3.6/dist-packages (from analytics-zoo==0.6.0.dev7) (0.9.0)\n",
            "Requirement already satisfied: conda-pack==0.3.1 in /usr/local/lib/python3.6/dist-packages (from analytics-zoo==0.6.0.dev7) (0.3.1)\n",
            "Requirement already satisfied: pyspark==2.4.3 in /usr/local/lib/python3.6/dist-packages (from analytics-zoo==0.6.0.dev7) (2.4.3)\n",
            "Requirement already satisfied: numpy>=1.7 in /usr/local/lib/python3.6/dist-packages (from bigdl==0.9.0->analytics-zoo==0.6.0.dev7) (1.16.5)\n",
            "Requirement already satisfied: six>=1.10.0 in /usr/local/lib/python3.6/dist-packages (from bigdl==0.9.0->analytics-zoo==0.6.0.dev7) (1.12.0)\n",
            "Requirement already satisfied: setuptools in /usr/local/lib/python3.6/dist-packages (from conda-pack==0.3.1->analytics-zoo==0.6.0.dev7) (41.2.0)\n",
            "Requirement already satisfied: py4j==0.10.7 in /usr/local/lib/python3.6/dist-packages (from pyspark==2.4.3->analytics-zoo==0.6.0.dev7) (0.10.7)\n"
          ],
          "name": "stdout"
        }
      ]
    },
    {
      "cell_type": "code",
      "metadata": {
        "id": "q4P093ovBE6t",
        "colab_type": "code",
        "outputId": "772246f6-4383-47c3-c862-4267538095ad",
        "colab": {
          "base_uri": "https://localhost:8080/",
          "height": 90
        }
      },
      "source": [
        "#\n",
        "# Copyright 2018 Analytics Zoo Authors.\n",
        "#\n",
        "# Licensed under the Apache License, Version 2.0 (the \"License\");\n",
        "# you may not use this file except in compliance with the License.\n",
        "# You may obtain a copy of the License at\n",
        "#\n",
        "#     http://www.apache.org/licenses/LICENSE-2.0\n",
        "#\n",
        "# Unless required by applicable law or agreed to in writing, software\n",
        "# distributed under the License is distributed on an \"AS IS\" BASIS,\n",
        "# WITHOUT WARRANTIES OR CONDITIONS OF ANY KIND, either express or implied.\n",
        "# See the License for the specific language governing permissions and\n",
        "# limitations under the License.\n",
        "#\n",
        "import pandas as pd\n",
        "import torch\n",
        "import torch.nn as nn\n",
        "import torch.nn.functional as F\n",
        "from bigdl.optim.optimizer import *\n",
        "from torchvision import datasets\n",
        "from zoo.common.nncontext import *\n",
        "from zoo.pipeline.nnframes import *\n",
        "from zoo.pipeline.api.net.torch_net import TorchNet\n",
        "from pyspark.sql import SparkSession\n",
        "from pyspark.sql.functions import col, udf\n",
        "from pyspark.sql.types import DoubleType\n",
        "from zoo.pipeline.api.net.torch_criterion import TorchCriterion\n",
        "\n",
        "\n",
        "# define model with Pytorch API\n",
        "class LeNet(nn.Module):\n",
        "    def __init__(self):\n",
        "        super(LeNet, self).__init__()\n",
        "        self.conv1 = nn.Conv2d(1, 20, 5, 1)\n",
        "        self.conv2 = nn.Conv2d(20, 50, 5, 1)\n",
        "        self.fc1 = nn.Linear(4*4*50, 500)\n",
        "        self.fc2 = nn.Linear(500, 10)\n",
        "\n",
        "    def forward(self, x):\n",
        "        x = F.relu(self.conv1(x))\n",
        "        x = F.max_pool2d(x, 2, 2)\n",
        "        x = F.relu(self.conv2(x))\n",
        "        x = F.max_pool2d(x, 2, 2)\n",
        "        x = x.view(-1, 4*4*50)\n",
        "        x = F.relu(self.fc1(x))\n",
        "        x = self.fc2(x)\n",
        "        return F.log_softmax(x, dim=1)\n",
        "\n"
      ],
      "execution_count": 2,
      "outputs": [
        {
          "output_type": "stream",
          "text": [
            "Prepending /usr/local/lib/python3.6/dist-packages/bigdl/share/conf/spark-bigdl.conf to sys.path\n",
            "Adding /usr/local/lib/python3.6/dist-packages/zoo/share/lib/analytics-zoo-bigdl_0.9.0-spark_2.4.3-0.6.0-SNAPSHOT-jar-with-dependencies.jar to BIGDL_JARS\n",
            "Prepending /usr/local/lib/python3.6/dist-packages/zoo/share/conf/spark-analytics-zoo.conf to sys.path\n"
          ],
          "name": "stdout"
        }
      ]
    },
    {
      "cell_type": "code",
      "metadata": {
        "id": "lEPFrjCfMH2U",
        "colab_type": "code",
        "colab": {}
      },
      "source": [
        "sparkConf = init_spark_conf().setAppName(\"test_pytorch_lenet\") \\\n",
        ".setMaster(\"local[4]\").set(\"spark.driver.memory\", \"8g\")\n",
        "sc = init_nncontext(sparkConf, redirect_spark_log=False)\n",
        "spark = SparkSession.builder.config(conf=sparkConf).getOrCreate()\n"
      ],
      "execution_count": 0,
      "outputs": []
    },
    {
      "cell_type": "code",
      "metadata": {
        "id": "d9ifXrCdeR4v",
        "colab_type": "code",
        "colab": {
          "base_uri": "https://localhost:8080/",
          "height": 351
        },
        "outputId": "ff666ea9-72e9-4f8d-a44c-fcb68c8e20cf"
      },
      "source": [
        "mnist = datasets.MNIST('../data', train=True, download=True)\n",
        "X_train = mnist.data.numpy() / 255.0\n",
        "Y_train = mnist.train_labels.float().numpy()\n",
        "pd_df = pd.DataFrame()\n",
        "pd_df['features'] = X_train.reshape((X_train.shape[0], 784)).tolist()\n",
        "pd_df['label'] = Y_train.reshape((Y_train.shape[0])).tolist()\n",
        "\n",
        "mnistDF = spark.createDataFrame(pd_df)\n",
        "(trainingDF, validationDF) = mnistDF.randomSplit([0.8, 0.2])\n",
        "print(\"Training DataFrame:\")\n",
        "trainingDF.show(10)"
      ],
      "execution_count": 4,
      "outputs": [
        {
          "output_type": "stream",
          "text": [
            "/usr/local/lib/python3.6/dist-packages/torchvision/datasets/mnist.py:43: UserWarning: train_labels has been renamed targets\n",
            "  warnings.warn(\"train_labels has been renamed targets\")\n"
          ],
          "name": "stderr"
        },
        {
          "output_type": "stream",
          "text": [
            "Training DataFrame:\n",
            "+--------------------+-----+\n",
            "|            features|label|\n",
            "+--------------------+-----+\n",
            "|[0.0, 0.0, 0.0, 0...|  7.0|\n",
            "|[0.0, 0.0, 0.0, 0...|  7.0|\n",
            "|[0.0, 0.0, 0.0, 0...|  7.0|\n",
            "|[0.0, 0.0, 0.0, 0...|  7.0|\n",
            "|[0.0, 0.0, 0.0, 0...|  7.0|\n",
            "|[0.0, 0.0, 0.0, 0...|  5.0|\n",
            "|[0.0, 0.0, 0.0, 0...|  7.0|\n",
            "|[0.0, 0.0, 0.0, 0...|  5.0|\n",
            "|[0.0, 0.0, 0.0, 0...|  5.0|\n",
            "|[0.0, 0.0, 0.0, 0...|  5.0|\n",
            "+--------------------+-----+\n",
            "only showing top 10 rows\n",
            "\n"
          ],
          "name": "stdout"
        }
      ]
    },
    {
      "cell_type": "code",
      "metadata": {
        "id": "HyMi06EqQ80h",
        "colab_type": "code",
        "outputId": "223c9f15-701c-4dbd-a498-99a970f8b365",
        "colab": {
          "base_uri": "https://localhost:8080/",
          "height": 175
        }
      },
      "source": [
        "\n",
        "# define loss with Pytorch API\n",
        "def lossFunc(input, target):\n",
        "    return nn.CrossEntropyLoss().forward(input, target.flatten().long())\n",
        "\n",
        "torch_model = LeNet()\n",
        "model = TorchNet.from_pytorch(torch_model, [1, 1, 28, 28])\n",
        "criterion = TorchCriterion.from_pytorch(lossFunc, [1, 10], torch.LongTensor([5]))\n",
        "classifier = NNClassifier(model, criterion, SeqToTensor([1, 28, 28])) \\\n",
        "    .setBatchSize(64) \\\n",
        "    .setOptimMethod(Adam()) \\\n",
        "    .setLearningRate(0.001)\\\n",
        "    .setMaxEpoch(2)\n",
        "\n",
        "# start training\n",
        "nnClassifierModel = classifier.fit(trainingDF)\n"
      ],
      "execution_count": 5,
      "outputs": [
        {
          "output_type": "stream",
          "text": [
            "creating: createTorchNet\n",
            "creating: createTorchCriterion\n",
            "creating: createSeqToTensor\n",
            "creating: createScalarToTensor\n",
            "creating: createFeatureLabelPreprocessing\n",
            "creating: createNNClassifier\n",
            "creating: createAdam\n",
            "creating: createToTuple\n",
            "creating: createChainedPreprocessing\n"
          ],
          "name": "stdout"
        }
      ]
    },
    {
      "cell_type": "code",
      "metadata": {
        "id": "_LZKsUaneYE6",
        "colab_type": "code",
        "colab": {
          "base_uri": "https://localhost:8080/",
          "height": 509
        },
        "outputId": "16618840-9a1d-4c96-8f2a-8734d48761bf"
      },
      "source": [
        "\n",
        "print(\"After training: \")\n",
        "shift = udf(lambda p: p - 1, DoubleType())\n",
        "res = nnClassifierModel.transform(validationDF) \\\n",
        "    .withColumn(\"prediction\", shift(col('prediction')))\n",
        "res.show()\n",
        "\n",
        "correct = res.filter(\"label=prediction\").count()\n",
        "overall = res.count()\n",
        "accuracy = correct * 1.0 / overall\n",
        "print(\"Validation accuracy = %g \" % accuracy)\n"
      ],
      "execution_count": 6,
      "outputs": [
        {
          "output_type": "stream",
          "text": [
            "After training: \n",
            "+--------------------+-----+----------+\n",
            "|            features|label|prediction|\n",
            "+--------------------+-----+----------+\n",
            "|[0.0, 0.0, 0.0, 0...|  2.0|       2.0|\n",
            "|[0.0, 0.0, 0.0, 0...|  7.0|       7.0|\n",
            "|[0.0, 0.0, 0.0, 0...|  7.0|       7.0|\n",
            "|[0.0, 0.0, 0.0, 0...|  5.0|       5.0|\n",
            "|[0.0, 0.0, 0.0, 0...|  7.0|       7.0|\n",
            "|[0.0, 0.0, 0.0, 0...|  7.0|       7.0|\n",
            "|[0.0, 0.0, 0.0, 0...|  5.0|       5.0|\n",
            "|[0.0, 0.0, 0.0, 0...|  5.0|       5.0|\n",
            "|[0.0, 0.0, 0.0, 0...|  7.0|       7.0|\n",
            "|[0.0, 0.0, 0.0, 0...|  5.0|       5.0|\n",
            "|[0.0, 0.0, 0.0, 0...|  5.0|       5.0|\n",
            "|[0.0, 0.0, 0.0, 0...|  7.0|       7.0|\n",
            "|[0.0, 0.0, 0.0, 0...|  7.0|       7.0|\n",
            "|[0.0, 0.0, 0.0, 0...|  7.0|       7.0|\n",
            "|[0.0, 0.0, 0.0, 0...|  5.0|       5.0|\n",
            "|[0.0, 0.0, 0.0, 0...|  7.0|       7.0|\n",
            "|[0.0, 0.0, 0.0, 0...|  5.0|       5.0|\n",
            "|[0.0, 0.0, 0.0, 0...|  2.0|       2.0|\n",
            "|[0.0, 0.0, 0.0, 0...|  5.0|       5.0|\n",
            "|[0.0, 0.0, 0.0, 0...|  5.0|       5.0|\n",
            "+--------------------+-----+----------+\n",
            "only showing top 20 rows\n",
            "\n",
            "Validation accuracy = 0.985996 \n"
          ],
          "name": "stdout"
        }
      ]
    },
    {
      "cell_type": "code",
      "metadata": {
        "id": "6X5fCoRcMEBE",
        "colab_type": "code",
        "colab": {}
      },
      "source": [
        ""
      ],
      "execution_count": 0,
      "outputs": []
    }
  ]
}